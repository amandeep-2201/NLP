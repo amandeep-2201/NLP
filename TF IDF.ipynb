{
 "cells": [
  {
   "cell_type": "code",
   "execution_count": 6,
   "metadata": {},
   "outputs": [
    {
     "name": "stdout",
     "output_type": "stream",
     "text": [
      "Requirement already satisfied: nltk in c:\\users\\697sm\\appdata\\local\\programs\\python\\python312\\lib\\site-packages (3.9.1)\n",
      "Requirement already satisfied: click in c:\\users\\697sm\\appdata\\local\\programs\\python\\python312\\lib\\site-packages (from nltk) (8.1.7)\n",
      "Requirement already satisfied: joblib in c:\\users\\697sm\\appdata\\local\\programs\\python\\python312\\lib\\site-packages (from nltk) (1.4.2)\n",
      "Requirement already satisfied: regex>=2021.8.3 in c:\\users\\697sm\\appdata\\local\\programs\\python\\python312\\lib\\site-packages (from nltk) (2024.9.11)\n",
      "Requirement already satisfied: tqdm in c:\\users\\697sm\\appdata\\local\\programs\\python\\python312\\lib\\site-packages (from nltk) (4.66.5)\n",
      "Requirement already satisfied: colorama in c:\\users\\697sm\\appdata\\local\\programs\\python\\python312\\lib\\site-packages (from click->nltk) (0.4.6)\n",
      "Note: you may need to restart the kernel to use updated packages.\n"
     ]
    },
    {
     "name": "stderr",
     "output_type": "stream",
     "text": [
      "\n",
      "[notice] A new release of pip is available: 24.0 -> 24.2\n",
      "[notice] To update, run: python.exe -m pip install --upgrade pip\n"
     ]
    }
   ],
   "source": [
    "%pip install nltk"
   ]
  },
  {
   "cell_type": "code",
   "execution_count": 7,
   "metadata": {},
   "outputs": [],
   "source": [
    "paragraph = \"\"\"Narendra Damodardas Modi[a] (born 17 September 1950)[b] is an Indian politician serving as the current prime minister of India since 26 May 2014. Modi was the chief minister of Gujarat from 2001 to 2014 and is the Member of Parliament (MP) for Varanasi. He is a member of the Bharatiya Janata Party (BJP) and of the Rashtriya Swayamsevak Sangh (RSS), a right-wing Hindu nationalist paramilitary volunteer organisation. He is the longest-serving prime minister outside the Indian National Congress.[4]\n",
    "\n",
    "Modi was born and raised in Vadnagar in northeastern Gujarat, where he completed his secondary education. He was introduced to the RSS at the age of eight. At the age of 18, he was married to Jashodaben Modi, whom he abandoned soon after, only publicly acknowledging her four decades later when legally required to do so. Modi became a full-time worker for the RSS in Gujarat in 1971. The RSS assigned him to the BJP in 1985 and he rose through the party hierarchy, becoming general secretary in 1998.[c] In 2001, Modi was appointed Chief Minister of Gujarat and elected to the legislative assembly soon after. His administration is considered complicit in the 2002 Gujarat riots,[d] and has been criticised for its management of the crisis. According to official records, a little over 1,000 people were killed, three-quarters of whom were Muslim; independent sources estimated 2,000 deaths, mostly Muslim.[13] A Special Investigation Team appointed by the Supreme Court of India in 2012 found no evidence to initiate prosecution proceedings against him.[e] While his policies as chief minister were credited for encouraging economic growth, his administration was criticised for failing to significantly improve health, poverty and education indices in the state.[f]\n",
    "\"\"\""
   ]
  },
  {
   "cell_type": "code",
   "execution_count": 8,
   "metadata": {},
   "outputs": [
    {
     "data": {
      "text/plain": [
       "'Narendra Damodardas Modi[a] (born 17 September 1950)[b] is an Indian politician serving as the current prime minister of India since 26 May 2014. Modi was the chief minister of Gujarat from 2001 to 2014 and is the Member of Parliament (MP) for Varanasi. He is a member of the Bharatiya Janata Party (BJP) and of the Rashtriya Swayamsevak Sangh (RSS), a right-wing Hindu nationalist paramilitary volunteer organisation. He is the longest-serving prime minister outside the Indian National Congress.[4]\\n\\nModi was born and raised in Vadnagar in northeastern Gujarat, where he completed his secondary education. He was introduced to the RSS at the age of eight. At the age of 18, he was married to Jashodaben Modi, whom he abandoned soon after, only publicly acknowledging her four decades later when legally required to do so. Modi became a full-time worker for the RSS in Gujarat in 1971. The RSS assigned him to the BJP in 1985 and he rose through the party hierarchy, becoming general secretary in 1998.[c] In 2001, Modi was appointed Chief Minister of Gujarat and elected to the legislative assembly soon after. His administration is considered complicit in the 2002 Gujarat riots,[d] and has been criticised for its management of the crisis. According to official records, a little over 1,000 people were killed, three-quarters of whom were Muslim; independent sources estimated 2,000 deaths, mostly Muslim.[13] A Special Investigation Team appointed by the Supreme Court of India in 2012 found no evidence to initiate prosecution proceedings against him.[e] While his policies as chief minister were credited for encouraging economic growth, his administration was criticised for failing to significantly improve health, poverty and education indices in the state.[f]\\n'"
      ]
     },
     "execution_count": 8,
     "metadata": {},
     "output_type": "execute_result"
    }
   ],
   "source": [
    "paragraph"
   ]
  },
  {
   "cell_type": "code",
   "execution_count": 9,
   "metadata": {},
   "outputs": [],
   "source": [
    "import nltk\n",
    "from nltk.stem import PorterStemmer\n",
    "from nltk.corpus import stopwords "
   ]
  },
  {
   "cell_type": "code",
   "execution_count": 10,
   "metadata": {},
   "outputs": [
    {
     "name": "stderr",
     "output_type": "stream",
     "text": [
      "[nltk_data] Downloading package punkt to\n",
      "[nltk_data]     C:\\Users\\697sm\\AppData\\Roaming\\nltk_data...\n",
      "[nltk_data]   Package punkt is already up-to-date!\n"
     ]
    },
    {
     "data": {
      "text/plain": [
       "['Narendra Damodardas Modi[a] (born 17 September 1950)[b] is an Indian politician serving as the current prime minister of India since 26 May 2014.',\n",
       " 'Modi was the chief minister of Gujarat from 2001 to 2014 and is the Member of Parliament (MP) for Varanasi.',\n",
       " 'He is a member of the Bharatiya Janata Party (BJP) and of the Rashtriya Swayamsevak Sangh (RSS), a right-wing Hindu nationalist paramilitary volunteer organisation.',\n",
       " 'He is the longest-serving prime minister outside the Indian National Congress.',\n",
       " '[4]\\n\\nModi was born and raised in Vadnagar in northeastern Gujarat, where he completed his secondary education.',\n",
       " 'He was introduced to the RSS at the age of eight.',\n",
       " 'At the age of 18, he was married to Jashodaben Modi, whom he abandoned soon after, only publicly acknowledging her four decades later when legally required to do so.',\n",
       " 'Modi became a full-time worker for the RSS in Gujarat in 1971.',\n",
       " 'The RSS assigned him to the BJP in 1985 and he rose through the party hierarchy, becoming general secretary in 1998.',\n",
       " '[c] In 2001, Modi was appointed Chief Minister of Gujarat and elected to the legislative assembly soon after.',\n",
       " 'His administration is considered complicit in the 2002 Gujarat riots,[d] and has been criticised for its management of the crisis.',\n",
       " 'According to official records, a little over 1,000 people were killed, three-quarters of whom were Muslim; independent sources estimated 2,000 deaths, mostly Muslim.',\n",
       " '[13] A Special Investigation Team appointed by the Supreme Court of India in 2012 found no evidence to initiate prosecution proceedings against him.',\n",
       " '[e] While his policies as chief minister were credited for encouraging economic growth, his administration was criticised for failing to significantly improve health, poverty and education indices in the state.',\n",
       " '[f]']"
      ]
     },
     "execution_count": 10,
     "metadata": {},
     "output_type": "execute_result"
    }
   ],
   "source": [
    "##tokenization -- converts paragraphs into sentences-words\n",
    "nltk.download('punkt')\n",
    "\n",
    "sentences = nltk.sent_tokenize(paragraph)\n",
    "sentences"
   ]
  },
  {
   "cell_type": "code",
   "execution_count": 11,
   "metadata": {},
   "outputs": [
    {
     "data": {
      "text/plain": [
       "'goe'"
      ]
     },
     "execution_count": 11,
     "metadata": {},
     "output_type": "execute_result"
    }
   ],
   "source": [
    "stemmer = PorterStemmer()\n",
    "stemmer.stem('goes')"
   ]
  },
  {
   "cell_type": "code",
   "execution_count": 12,
   "metadata": {},
   "outputs": [],
   "source": [
    "from nltk.stem import WordNetLemmatizer"
   ]
  },
  {
   "cell_type": "code",
   "execution_count": 13,
   "metadata": {},
   "outputs": [],
   "source": [
    "lemmatizer = WordNetLemmatizer()"
   ]
  },
  {
   "cell_type": "code",
   "execution_count": 14,
   "metadata": {},
   "outputs": [
    {
     "name": "stderr",
     "output_type": "stream",
     "text": [
      "[nltk_data] Downloading package wordnet to\n",
      "[nltk_data]     C:\\Users\\697sm\\AppData\\Roaming\\nltk_data...\n",
      "[nltk_data]   Package wordnet is already up-to-date!\n"
     ]
    },
    {
     "data": {
      "text/plain": [
       "True"
      ]
     },
     "execution_count": 14,
     "metadata": {},
     "output_type": "execute_result"
    }
   ],
   "source": [
    "import nltk\n",
    "nltk.download('wordnet')"
   ]
  },
  {
   "cell_type": "code",
   "execution_count": 15,
   "metadata": {},
   "outputs": [
    {
     "data": {
      "text/plain": [
       "'go'"
      ]
     },
     "execution_count": 15,
     "metadata": {},
     "output_type": "execute_result"
    }
   ],
   "source": [
    "lemmatizer.lemmatize('goes')"
   ]
  },
  {
   "cell_type": "markdown",
   "metadata": {},
   "source": [
    "Cleaning special characters"
   ]
  },
  {
   "cell_type": "code",
   "execution_count": 16,
   "metadata": {},
   "outputs": [],
   "source": [
    "import re   #regular expression"
   ]
  },
  {
   "cell_type": "code",
   "execution_count": 17,
   "metadata": {},
   "outputs": [],
   "source": [
    "corpus = []\n",
    "for i in range(len(sentences)):  #16\n",
    "    review = re.sub('[^a-zA-Z0-9]', ' ', sentences[i] )   #replace everything other than a-z and A-Z and 0-9 with \" \" on sentences\n",
    "    review = review.lower()\n",
    "    corpus.append(review)\n"
   ]
  },
  {
   "cell_type": "code",
   "execution_count": 18,
   "metadata": {},
   "outputs": [
    {
     "data": {
      "text/plain": [
       "['narendra damodardas modi a   born 17 september 1950  b  is an indian politician serving as the current prime minister of india since 26 may 2014 ',\n",
       " 'modi was the chief minister of gujarat from 2001 to 2014 and is the member of parliament  mp  for varanasi ',\n",
       " 'he is a member of the bharatiya janata party  bjp  and of the rashtriya swayamsevak sangh  rss   a right wing hindu nationalist paramilitary volunteer organisation ',\n",
       " 'he is the longest serving prime minister outside the indian national congress ',\n",
       " ' 4   modi was born and raised in vadnagar in northeastern gujarat  where he completed his secondary education ',\n",
       " 'he was introduced to the rss at the age of eight ',\n",
       " 'at the age of 18  he was married to jashodaben modi  whom he abandoned soon after  only publicly acknowledging her four decades later when legally required to do so ',\n",
       " 'modi became a full time worker for the rss in gujarat in 1971 ',\n",
       " 'the rss assigned him to the bjp in 1985 and he rose through the party hierarchy  becoming general secretary in 1998 ',\n",
       " ' c  in 2001  modi was appointed chief minister of gujarat and elected to the legislative assembly soon after ',\n",
       " 'his administration is considered complicit in the 2002 gujarat riots  d  and has been criticised for its management of the crisis ',\n",
       " 'according to official records  a little over 1 000 people were killed  three quarters of whom were muslim  independent sources estimated 2 000 deaths  mostly muslim ',\n",
       " ' 13  a special investigation team appointed by the supreme court of india in 2012 found no evidence to initiate prosecution proceedings against him ',\n",
       " ' e  while his policies as chief minister were credited for encouraging economic growth  his administration was criticised for failing to significantly improve health  poverty and education indices in the state ',\n",
       " ' f ']"
      ]
     },
     "execution_count": 18,
     "metadata": {},
     "output_type": "execute_result"
    }
   ],
   "source": [
    "corpus"
   ]
  },
  {
   "cell_type": "code",
   "execution_count": 19,
   "metadata": {},
   "outputs": [
    {
     "name": "stderr",
     "output_type": "stream",
     "text": [
      "[nltk_data] Downloading package stopwords to\n",
      "[nltk_data]     C:\\Users\\697sm\\AppData\\Roaming\\nltk_data...\n",
      "[nltk_data]   Package stopwords is already up-to-date!\n"
     ]
    },
    {
     "data": {
      "text/plain": [
       "True"
      ]
     },
     "execution_count": 19,
     "metadata": {},
     "output_type": "execute_result"
    }
   ],
   "source": [
    "import nltk\n",
    "nltk.download('stopwords')"
   ]
  },
  {
   "cell_type": "code",
   "execution_count": 20,
   "metadata": {},
   "outputs": [],
   "source": [
    "#stemming\n",
    "\n",
    "#for i in corpus:\n",
    "#    words = nltk.word_tokenize(i)\n",
    "#    for word in words:\n",
    "#        if word not in set(stopwords.words('english')):\n",
    "#            print(stemmer.stem(word))\n",
    "\n",
    "\n",
    "for i in range(len(corpus)):\n",
    "    words = nltk.word_tokenize(corpus[i])    #creating words from sentences\n",
    "    words = [stemmer.stem(word) for word in words if word not in set(stopwords.words('english'))]  #updating words\n",
    "    corpus[i] = ' '.join(words)"
   ]
  },
  {
   "cell_type": "code",
   "execution_count": 21,
   "metadata": {},
   "outputs": [
    {
     "data": {
      "text/plain": [
       "['narendra damodarda modi born 17 septemb 1950 b indian politician serv current prime minist india sinc 26 may 2014',\n",
       " 'modi chief minist gujarat 2001 2014 member parliament mp varanasi',\n",
       " 'member bharatiya janata parti bjp rashtriya swayamsevak sangh rss right wing hindu nationalist paramilitari volunt organis',\n",
       " 'longest serv prime minist outsid indian nation congress',\n",
       " '4 modi born rais vadnagar northeastern gujarat complet secondari educ',\n",
       " 'introduc rss age eight',\n",
       " 'age 18 marri jashodaben modi abandon soon publicli acknowledg four decad later legal requir',\n",
       " 'modi becam full time worker rss gujarat 1971',\n",
       " 'rss assign bjp 1985 rose parti hierarchi becom gener secretari 1998',\n",
       " 'c 2001 modi appoint chief minist gujarat elect legisl assembl soon',\n",
       " 'administr consid complicit 2002 gujarat riot criticis manag crisi',\n",
       " 'accord offici record littl 1 000 peopl kill three quarter muslim independ sourc estim 2 000 death mostli muslim',\n",
       " '13 special investig team appoint suprem court india 2012 found evid initi prosecut proceed',\n",
       " 'e polici chief minist credit encourag econom growth administr criticis fail significantli improv health poverti educ indic state',\n",
       " 'f']"
      ]
     },
     "execution_count": 21,
     "metadata": {},
     "output_type": "execute_result"
    }
   ],
   "source": [
    "corpus"
   ]
  },
  {
   "cell_type": "code",
   "execution_count": 22,
   "metadata": {},
   "outputs": [],
   "source": [
    "#lemmatization\n",
    "\n",
    "#for i in range(len(corpus)):\n",
    "#    words = nltk.word_tokenize(corpus[i])\n",
    "#    for word in words:\n",
    "#        if word not in set(stopwords.words('english')):\n",
    "#            words = (lemmatizer.lemmatize(word))\n",
    "#            corpus[i] = ' '.join(words)\n",
    "\n",
    "for i in range(len(corpus)):\n",
    "    words = nltk.word_tokenize(corpus[i])    #creating words from sentences\n",
    "    words = [lemmatizer.lemmatize(word) for word in words if word not in set(stopwords.words('english'))]  #updating words\n",
    "    corpus[i] = ' '.join(words)\n",
    "            "
   ]
  },
  {
   "cell_type": "code",
   "execution_count": 23,
   "metadata": {},
   "outputs": [
    {
     "data": {
      "text/plain": [
       "['narendra damodarda modi born 17 septemb 1950 b indian politician serv current prime minist india sinc 26 may 2014',\n",
       " 'modi chief minist gujarat 2001 2014 member parliament mp varanasi',\n",
       " 'member bharatiya janata parti bjp rashtriya swayamsevak sangh rss right wing hindu nationalist paramilitari volunt organis',\n",
       " 'longest serv prime minist outsid indian nation congress',\n",
       " '4 modi born rais vadnagar northeastern gujarat complet secondari educ',\n",
       " 'introduc rss age eight',\n",
       " 'age 18 marri jashodaben modi abandon soon publicli acknowledg four decad later legal requir',\n",
       " 'modi becam full time worker rss gujarat 1971',\n",
       " 'rss assign bjp 1985 rose parti hierarchi becom gener secretari 1998',\n",
       " 'c 2001 modi appoint chief minist gujarat elect legisl assembl soon',\n",
       " 'administr consid complicit 2002 gujarat riot criticis manag crisi',\n",
       " 'accord offici record littl 1 000 peopl kill three quarter muslim independ sourc estim 2 000 death mostli muslim',\n",
       " '13 special investig team appoint suprem court india 2012 found evid initi prosecut proceed',\n",
       " 'e polici chief minist credit encourag econom growth administr criticis fail significantli improv health poverti educ indic state',\n",
       " 'f']"
      ]
     },
     "execution_count": 23,
     "metadata": {},
     "output_type": "execute_result"
    }
   ],
   "source": [
    "corpus"
   ]
  },
  {
   "cell_type": "code",
   "execution_count": 24,
   "metadata": {},
   "outputs": [
    {
     "name": "stdout",
     "output_type": "stream",
     "text": [
      "Requirement already satisfied: scikit-learn in c:\\users\\697sm\\appdata\\local\\programs\\python\\python312\\lib\\site-packages (1.5.2)\n",
      "Requirement already satisfied: numpy>=1.19.5 in c:\\users\\697sm\\appdata\\local\\programs\\python\\python312\\lib\\site-packages (from scikit-learn) (1.26.4)\n",
      "Requirement already satisfied: scipy>=1.6.0 in c:\\users\\697sm\\appdata\\local\\programs\\python\\python312\\lib\\site-packages (from scikit-learn) (1.13.1)\n",
      "Requirement already satisfied: joblib>=1.2.0 in c:\\users\\697sm\\appdata\\local\\programs\\python\\python312\\lib\\site-packages (from scikit-learn) (1.4.2)\n",
      "Requirement already satisfied: threadpoolctl>=3.1.0 in c:\\users\\697sm\\appdata\\local\\programs\\python\\python312\\lib\\site-packages (from scikit-learn) (3.5.0)\n",
      "Note: you may need to restart the kernel to use updated packages.\n"
     ]
    },
    {
     "name": "stderr",
     "output_type": "stream",
     "text": [
      "\n",
      "[notice] A new release of pip is available: 24.0 -> 24.2\n",
      "[notice] To update, run: python.exe -m pip install --upgrade pip\n"
     ]
    }
   ],
   "source": [
    "%pip install scikit-learn"
   ]
  },
  {
   "cell_type": "code",
   "execution_count": 25,
   "metadata": {},
   "outputs": [],
   "source": [
    "#bag of words\n",
    "\n",
    "from sklearn.feature_extraction.text import CountVectorizer\n",
    "\n",
    "cv = CountVectorizer(binary = True, ngram_range=(3,3))"
   ]
  },
  {
   "cell_type": "code",
   "execution_count": 26,
   "metadata": {},
   "outputs": [],
   "source": [
    "X = cv.fit_transform(corpus)\n"
   ]
  },
  {
   "cell_type": "code",
   "execution_count": 27,
   "metadata": {},
   "outputs": [
    {
     "data": {
      "text/plain": [
       "{'narendra damodarda modi': 92,\n",
       " 'damodarda modi born': 39,\n",
       " 'modi born 17': 88,\n",
       " 'born 17 septemb': 27,\n",
       " '17 septemb 1950': 3,\n",
       " 'septemb 1950 indian': 120,\n",
       " '1950 indian politician': 5,\n",
       " 'indian politician serv': 66,\n",
       " 'politician serv current': 103,\n",
       " 'serv current prime': 121,\n",
       " 'current prime minist': 38,\n",
       " 'prime minist india': 105,\n",
       " 'minist india sinc': 83,\n",
       " 'india sinc 26': 64,\n",
       " 'sinc 26 may': 124,\n",
       " '26 may 2014': 12,\n",
       " 'modi chief minist': 90,\n",
       " 'chief minist gujarat': 30,\n",
       " 'minist gujarat 2001': 81,\n",
       " 'gujarat 2001 2014': 54,\n",
       " '2001 2014 member': 7,\n",
       " '2014 member parliament': 11,\n",
       " 'member parliament mp': 79,\n",
       " 'parliament mp varanasi': 98,\n",
       " 'member bharatiya janata': 78,\n",
       " 'bharatiya janata parti': 24,\n",
       " 'janata parti bjp': 70,\n",
       " 'parti bjp rashtriya': 99,\n",
       " 'bjp rashtriya swayamsevak': 26,\n",
       " 'rashtriya swayamsevak sangh': 110,\n",
       " 'swayamsevak sangh rss': 129,\n",
       " 'sangh rss right': 119,\n",
       " 'rss right wing': 118,\n",
       " 'right wing hindu': 112,\n",
       " 'wing hindu nationalist': 134,\n",
       " 'hindu nationalist paramilitari': 60,\n",
       " 'nationalist paramilitari volunt': 93,\n",
       " 'paramilitari volunt organis': 97,\n",
       " 'longest serv prime': 76,\n",
       " 'serv prime minist': 122,\n",
       " 'prime minist outsid': 106,\n",
       " 'minist outsid indian': 84,\n",
       " 'outsid indian nation': 96,\n",
       " 'indian nation congress': 65,\n",
       " 'modi born rais': 89,\n",
       " 'born rais vadnagar': 28,\n",
       " 'rais vadnagar northeastern': 109,\n",
       " 'vadnagar northeastern gujarat': 133,\n",
       " 'northeastern gujarat complet': 94,\n",
       " 'gujarat complet secondari': 55,\n",
       " 'complet secondari educ': 31,\n",
       " 'introduc rss age': 68,\n",
       " 'rss age eight': 115,\n",
       " 'age 18 marri': 18,\n",
       " '18 marri jashodaben': 4,\n",
       " 'marri jashodaben modi': 77,\n",
       " 'jashodaben modi abandon': 71,\n",
       " 'modi abandon soon': 85,\n",
       " 'abandon soon publicli': 13,\n",
       " 'soon publicli acknowledg': 125,\n",
       " 'publicli acknowledg four': 107,\n",
       " 'acknowledg four decad': 15,\n",
       " 'four decad later': 50,\n",
       " 'decad later legal': 41,\n",
       " 'later legal requir': 73,\n",
       " 'modi becam full': 87,\n",
       " 'becam full time': 22,\n",
       " 'full time worker': 51,\n",
       " 'time worker rss': 132,\n",
       " 'worker rss gujarat': 135,\n",
       " 'rss gujarat 1971': 117,\n",
       " 'rss assign bjp': 116,\n",
       " 'assign bjp 1985': 21,\n",
       " 'bjp 1985 rose': 25,\n",
       " '1985 rose parti': 6,\n",
       " 'rose parti hierarchi': 114,\n",
       " 'parti hierarchi becom': 100,\n",
       " 'hierarchi becom gener': 59,\n",
       " 'becom gener secretari': 23,\n",
       " 'gener secretari 1998': 52,\n",
       " '2001 modi appoint': 8,\n",
       " 'modi appoint chief': 86,\n",
       " 'appoint chief minist': 19,\n",
       " 'minist gujarat elect': 82,\n",
       " 'gujarat elect legisl': 56,\n",
       " 'elect legisl assembl': 44,\n",
       " 'legisl assembl soon': 74,\n",
       " 'administr consid complicit': 16,\n",
       " 'consid complicit 2002': 33,\n",
       " 'complicit 2002 gujarat': 32,\n",
       " '2002 gujarat riot': 9,\n",
       " 'gujarat riot criticis': 57,\n",
       " 'riot criticis manag': 113,\n",
       " 'criticis manag crisi': 37,\n",
       " 'accord offici record': 14,\n",
       " 'offici record littl': 95,\n",
       " 'record littl 000': 111,\n",
       " 'littl 000 peopl': 75,\n",
       " '000 peopl kill': 1,\n",
       " 'peopl kill three': 101,\n",
       " 'kill three quarter': 72,\n",
       " 'three quarter muslim': 131,\n",
       " 'quarter muslim independ': 108,\n",
       " 'muslim independ sourc': 91,\n",
       " 'independ sourc estim': 62,\n",
       " 'sourc estim 000': 126,\n",
       " 'estim 000 death': 46,\n",
       " '000 death mostli': 0,\n",
       " 'death mostli muslim': 40,\n",
       " '13 special investig': 2,\n",
       " 'special investig team': 127,\n",
       " 'investig team appoint': 69,\n",
       " 'team appoint suprem': 130,\n",
       " 'appoint suprem court': 20,\n",
       " 'suprem court india': 128,\n",
       " 'court india 2012': 34,\n",
       " 'india 2012 found': 63,\n",
       " '2012 found evid': 10,\n",
       " 'found evid initi': 49,\n",
       " 'evid initi prosecut': 47,\n",
       " 'initi prosecut proceed': 67,\n",
       " 'polici chief minist': 102,\n",
       " 'chief minist credit': 29,\n",
       " 'minist credit encourag': 80,\n",
       " 'credit encourag econom': 35,\n",
       " 'encourag econom growth': 45,\n",
       " 'econom growth administr': 42,\n",
       " 'growth administr criticis': 53,\n",
       " 'administr criticis fail': 17,\n",
       " 'criticis fail significantli': 36,\n",
       " 'fail significantli improv': 48,\n",
       " 'significantli improv health': 123,\n",
       " 'improv health poverti': 61,\n",
       " 'health poverti educ': 58,\n",
       " 'poverti educ indic': 104,\n",
       " 'educ indic state': 43}"
      ]
     },
     "execution_count": 27,
     "metadata": {},
     "output_type": "execute_result"
    }
   ],
   "source": [
    "cv.vocabulary_"
   ]
  },
  {
   "cell_type": "code",
   "execution_count": 28,
   "metadata": {},
   "outputs": [
    {
     "data": {
      "text/plain": [
       "'narendra damodarda modi born 17 septemb 1950 b indian politician serv current prime minist india sinc 26 may 2014'"
      ]
     },
     "execution_count": 28,
     "metadata": {},
     "output_type": "execute_result"
    }
   ],
   "source": [
    "corpus[0]"
   ]
  },
  {
   "cell_type": "code",
   "execution_count": 29,
   "metadata": {},
   "outputs": [
    {
     "data": {
      "text/plain": [
       "array([[0, 0, 0, 1, 0, 1, 0, 0, 0, 0, 0, 0, 1, 0, 0, 0, 0, 0, 0, 0, 0, 0,\n",
       "        0, 0, 0, 0, 0, 1, 0, 0, 0, 0, 0, 0, 0, 0, 0, 0, 1, 1, 0, 0, 0, 0,\n",
       "        0, 0, 0, 0, 0, 0, 0, 0, 0, 0, 0, 0, 0, 0, 0, 0, 0, 0, 0, 0, 1, 0,\n",
       "        1, 0, 0, 0, 0, 0, 0, 0, 0, 0, 0, 0, 0, 0, 0, 0, 0, 1, 0, 0, 0, 0,\n",
       "        1, 0, 0, 0, 1, 0, 0, 0, 0, 0, 0, 0, 0, 0, 0, 1, 0, 1, 0, 0, 0, 0,\n",
       "        0, 0, 0, 0, 0, 0, 0, 0, 0, 0, 1, 1, 0, 0, 1, 0, 0, 0, 0, 0, 0, 0,\n",
       "        0, 0, 0, 0]], dtype=int64)"
      ]
     },
     "execution_count": 29,
     "metadata": {},
     "output_type": "execute_result"
    }
   ],
   "source": [
    "X[0].toarray()"
   ]
  },
  {
   "cell_type": "markdown",
   "metadata": {},
   "source": [
    "TF-IDF"
   ]
  },
  {
   "cell_type": "code",
   "execution_count": 41,
   "metadata": {},
   "outputs": [],
   "source": [
    "#TFIDF\n",
    "\n",
    "from sklearn.feature_extraction.text import TfidfVectorizer\n",
    "\n",
    "cv = TfidfVectorizer(ngram_range=(1,1), max_features = 10)  #gives top 3\n",
    "X = cv.fit_transform(corpus)"
   ]
  },
  {
   "cell_type": "code",
   "execution_count": 35,
   "metadata": {},
   "outputs": [
    {
     "data": {
      "text/plain": [
       "'narendra damodarda modi born 17 septemb 1950 b indian politician serv current prime minist india sinc 26 may 2014'"
      ]
     },
     "execution_count": 35,
     "metadata": {},
     "output_type": "execute_result"
    }
   ],
   "source": [
    "corpus[0]"
   ]
  },
  {
   "cell_type": "code",
   "execution_count": 42,
   "metadata": {},
   "outputs": [
    {
     "data": {
      "text/plain": [
       "array([[0.        , 0.        , 0.70439572, 0.        , 0.        ,\n",
       "        0.        , 0.52180252, 0.48119518, 0.        , 0.        ]])"
      ]
     },
     "execution_count": 42,
     "metadata": {},
     "output_type": "execute_result"
    }
   ],
   "source": [
    "X[0].toarray()"
   ]
  },
  {
   "cell_type": "code",
   "execution_count": null,
   "metadata": {},
   "outputs": [],
   "source": []
  }
 ],
 "metadata": {
  "kernelspec": {
   "display_name": "Python 3",
   "language": "python",
   "name": "python3"
  },
  "language_info": {
   "codemirror_mode": {
    "name": "ipython",
    "version": 3
   },
   "file_extension": ".py",
   "mimetype": "text/x-python",
   "name": "python",
   "nbconvert_exporter": "python",
   "pygments_lexer": "ipython3",
   "version": "3.12.4"
  }
 },
 "nbformat": 4,
 "nbformat_minor": 2
}
