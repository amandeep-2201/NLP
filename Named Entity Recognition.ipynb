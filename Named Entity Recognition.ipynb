{
 "cells": [
  {
   "cell_type": "code",
   "execution_count": 2,
   "metadata": {},
   "outputs": [],
   "source": [
    "sentence=\"The Eiffel Tower was built from 1887 to 1889 by French engineer Gustave Eiffel, whose company specialized in building metal frameworks and structures.\""
   ]
  },
  {
   "cell_type": "code",
   "execution_count": 3,
   "metadata": {},
   "outputs": [
    {
     "name": "stdout",
     "output_type": "stream",
     "text": [
      "Requirement already satisfied: nltk in c:\\users\\697sm\\appdata\\local\\programs\\python\\python312\\lib\\site-packages (3.9.1)\n",
      "Requirement already satisfied: click in c:\\users\\697sm\\appdata\\local\\programs\\python\\python312\\lib\\site-packages (from nltk) (8.1.7)\n",
      "Requirement already satisfied: joblib in c:\\users\\697sm\\appdata\\local\\programs\\python\\python312\\lib\\site-packages (from nltk) (1.4.2)\n",
      "Requirement already satisfied: regex>=2021.8.3 in c:\\users\\697sm\\appdata\\local\\programs\\python\\python312\\lib\\site-packages (from nltk) (2024.9.11)\n",
      "Requirement already satisfied: tqdm in c:\\users\\697sm\\appdata\\local\\programs\\python\\python312\\lib\\site-packages (from nltk) (4.66.5)\n",
      "Requirement already satisfied: colorama in c:\\users\\697sm\\appdata\\local\\programs\\python\\python312\\lib\\site-packages (from click->nltk) (0.4.6)\n"
     ]
    },
    {
     "name": "stderr",
     "output_type": "stream",
     "text": [
      "\n",
      "[notice] A new release of pip is available: 24.0 -> 24.2\n",
      "[notice] To update, run: python.exe -m pip install --upgrade pip\n"
     ]
    }
   ],
   "source": [
    "!pip install nltk"
   ]
  },
  {
   "cell_type": "code",
   "execution_count": 4,
   "metadata": {},
   "outputs": [
    {
     "name": "stderr",
     "output_type": "stream",
     "text": [
      "[nltk_data] Downloading package punkt to\n",
      "[nltk_data]     C:\\Users\\697sm\\AppData\\Roaming\\nltk_data...\n",
      "[nltk_data]   Package punkt is already up-to-date!\n",
      "[nltk_data] Downloading package punkt_tab to\n",
      "[nltk_data]     C:\\Users\\697sm\\AppData\\Roaming\\nltk_data...\n",
      "[nltk_data]   Package punkt_tab is already up-to-date!\n"
     ]
    },
    {
     "data": {
      "text/plain": [
       "True"
      ]
     },
     "execution_count": 4,
     "metadata": {},
     "output_type": "execute_result"
    }
   ],
   "source": [
    "import nltk\n",
    "nltk.download('punkt')\n",
    "nltk.download('punkt_tab')\n"
   ]
  },
  {
   "cell_type": "code",
   "execution_count": 5,
   "metadata": {},
   "outputs": [
    {
     "data": {
      "text/plain": [
       "['The',\n",
       " 'Eiffel',\n",
       " 'Tower',\n",
       " 'was',\n",
       " 'built',\n",
       " 'from',\n",
       " '1887',\n",
       " 'to',\n",
       " '1889',\n",
       " 'by',\n",
       " 'French',\n",
       " 'engineer',\n",
       " 'Gustave',\n",
       " 'Eiffel',\n",
       " ',',\n",
       " 'whose',\n",
       " 'company',\n",
       " 'specialized',\n",
       " 'in',\n",
       " 'building',\n",
       " 'metal',\n",
       " 'frameworks',\n",
       " 'and',\n",
       " 'structures',\n",
       " '.']"
      ]
     },
     "execution_count": 5,
     "metadata": {},
     "output_type": "execute_result"
    }
   ],
   "source": [
    "words = nltk.word_tokenize(sentence,language = \"english\")\n",
    "words"
   ]
  },
  {
   "cell_type": "code",
   "execution_count": 8,
   "metadata": {},
   "outputs": [
    {
     "name": "stderr",
     "output_type": "stream",
     "text": [
      "[nltk_data] Downloading package averaged_perceptron_tagger_eng to\n",
      "[nltk_data]     C:\\Users\\697sm\\AppData\\Roaming\\nltk_data...\n",
      "[nltk_data]   Unzipping taggers\\averaged_perceptron_tagger_eng.zip.\n"
     ]
    },
    {
     "data": {
      "text/plain": [
       "True"
      ]
     },
     "execution_count": 8,
     "metadata": {},
     "output_type": "execute_result"
    }
   ],
   "source": [
    "import nltk\n",
    "nltk.download('averaged_perceptron_tagger_eng')"
   ]
  },
  {
   "cell_type": "code",
   "execution_count": 9,
   "metadata": {},
   "outputs": [
    {
     "data": {
      "text/plain": [
       "[('The', 'DT'),\n",
       " ('Eiffel', 'NNP'),\n",
       " ('Tower', 'NNP'),\n",
       " ('was', 'VBD'),\n",
       " ('built', 'VBN'),\n",
       " ('from', 'IN'),\n",
       " ('1887', 'CD'),\n",
       " ('to', 'TO'),\n",
       " ('1889', 'CD'),\n",
       " ('by', 'IN'),\n",
       " ('French', 'JJ'),\n",
       " ('engineer', 'NN'),\n",
       " ('Gustave', 'NNP'),\n",
       " ('Eiffel', 'NNP'),\n",
       " (',', ','),\n",
       " ('whose', 'WP$'),\n",
       " ('company', 'NN'),\n",
       " ('specialized', 'VBD'),\n",
       " ('in', 'IN'),\n",
       " ('building', 'NN'),\n",
       " ('metal', 'NN'),\n",
       " ('frameworks', 'NNS'),\n",
       " ('and', 'CC'),\n",
       " ('structures', 'NNS'),\n",
       " ('.', '.')]"
      ]
     },
     "execution_count": 9,
     "metadata": {},
     "output_type": "execute_result"
    }
   ],
   "source": [
    "tag_elements = nltk.pos_tag(words)\n",
    "tag_elements"
   ]
  },
  {
   "cell_type": "code",
   "execution_count": 14,
   "metadata": {},
   "outputs": [
    {
     "name": "stderr",
     "output_type": "stream",
     "text": [
      "[nltk_data] Downloading package maxent_ne_chunker_tab to\n",
      "[nltk_data]     C:\\Users\\697sm\\AppData\\Roaming\\nltk_data...\n",
      "[nltk_data]   Package maxent_ne_chunker_tab is already up-to-date!\n",
      "\n",
      "[notice] A new release of pip is available: 24.0 -> 24.2\n",
      "[notice] To update, run: python.exe -m pip install --upgrade pip\n"
     ]
    },
    {
     "name": "stdout",
     "output_type": "stream",
     "text": [
      "Collecting numpy\n",
      "  Downloading numpy-2.1.2-cp312-cp312-win_amd64.whl.metadata (59 kB)\n",
      "     ---------------------------------------- 0.0/59.7 kB ? eta -:--:--\n",
      "     ------ --------------------------------- 10.2/59.7 kB ? eta -:--:--\n",
      "     ------------- ------------------------ 20.5/59.7 kB 165.2 kB/s eta 0:00:01\n",
      "     ------------------- ------------------ 30.7/59.7 kB 187.9 kB/s eta 0:00:01\n",
      "     -------------------------------- ----- 51.2/59.7 kB 238.1 kB/s eta 0:00:01\n",
      "     -------------------------------------- 59.7/59.7 kB 264.7 kB/s eta 0:00:00\n",
      "Downloading numpy-2.1.2-cp312-cp312-win_amd64.whl (12.6 MB)\n",
      "   ---------------------------------------- 0.0/12.6 MB ? eta -:--:--\n",
      "    --------------------------------------- 0.3/12.6 MB 8.9 MB/s eta 0:00:02\n",
      "   - -------------------------------------- 0.6/12.6 MB 8.8 MB/s eta 0:00:02\n",
      "   -- ------------------------------------- 0.9/12.6 MB 8.4 MB/s eta 0:00:02\n",
      "   ---- ----------------------------------- 1.3/12.6 MB 7.6 MB/s eta 0:00:02\n",
      "   ----- ---------------------------------- 1.7/12.6 MB 7.9 MB/s eta 0:00:02\n",
      "   ------ --------------------------------- 2.1/12.6 MB 8.5 MB/s eta 0:00:02\n",
      "   -------- ------------------------------- 2.6/12.6 MB 8.2 MB/s eta 0:00:02\n",
      "   --------- ------------------------------ 2.9/12.6 MB 8.1 MB/s eta 0:00:02\n",
      "   ---------- ----------------------------- 3.3/12.6 MB 8.4 MB/s eta 0:00:02\n",
      "   ----------- ---------------------------- 3.8/12.6 MB 8.3 MB/s eta 0:00:02\n",
      "   ------------- -------------------------- 4.2/12.6 MB 8.3 MB/s eta 0:00:02\n",
      "   -------------- ------------------------- 4.7/12.6 MB 8.6 MB/s eta 0:00:01\n",
      "   ---------------- ----------------------- 5.1/12.6 MB 8.6 MB/s eta 0:00:01\n",
      "   ---------------- ----------------------- 5.3/12.6 MB 8.5 MB/s eta 0:00:01\n",
      "   ---------------- ----------------------- 5.3/12.6 MB 8.5 MB/s eta 0:00:01\n",
      "   ----------------- ---------------------- 5.5/12.6 MB 7.5 MB/s eta 0:00:01\n",
      "   ------------------- -------------------- 6.0/12.6 MB 7.7 MB/s eta 0:00:01\n",
      "   -------------------- ------------------- 6.5/12.6 MB 7.8 MB/s eta 0:00:01\n",
      "   --------------------- ------------------ 6.8/12.6 MB 7.8 MB/s eta 0:00:01\n",
      "   ---------------------- ----------------- 7.2/12.6 MB 7.8 MB/s eta 0:00:01\n",
      "   ------------------------ --------------- 7.7/12.6 MB 8.0 MB/s eta 0:00:01\n",
      "   ------------------------- -------------- 8.1/12.6 MB 8.0 MB/s eta 0:00:01\n",
      "   --------------------------- ------------ 8.6/12.6 MB 8.1 MB/s eta 0:00:01\n",
      "   ---------------------------- ----------- 8.9/12.6 MB 8.1 MB/s eta 0:00:01\n",
      "   ------------------------------ --------- 9.5/12.6 MB 8.1 MB/s eta 0:00:01\n",
      "   ------------------------------- -------- 9.8/12.6 MB 8.1 MB/s eta 0:00:01\n",
      "   --------------------------------- ------ 10.4/12.6 MB 8.2 MB/s eta 0:00:01\n",
      "   ---------------------------------- ----- 10.8/12.6 MB 8.3 MB/s eta 0:00:01\n",
      "   ----------------------------------- ---- 11.1/12.6 MB 8.3 MB/s eta 0:00:01\n",
      "   ------------------------------------ --- 11.4/12.6 MB 8.3 MB/s eta 0:00:01\n",
      "   ------------------------------------- -- 11.9/12.6 MB 8.3 MB/s eta 0:00:01\n",
      "   ---------------------------------------  12.4/12.6 MB 8.4 MB/s eta 0:00:01\n",
      "   ---------------------------------------  12.6/12.6 MB 8.3 MB/s eta 0:00:01\n",
      "   ---------------------------------------- 12.6/12.6 MB 8.0 MB/s eta 0:00:00\n",
      "Installing collected packages: numpy\n",
      "Successfully installed numpy-2.1.2\n"
     ]
    }
   ],
   "source": [
    "import nltk\n",
    "nltk.download('maxent_ne_chunker_tab')\n",
    "\n",
    "!pip install numpy\n",
    "import numpy"
   ]
  },
  {
   "cell_type": "code",
   "execution_count": 16,
   "metadata": {},
   "outputs": [],
   "source": [
    "nltk.ne_chunk(tag_elements).draw()      #named entity chunker"
   ]
  }
 ],
 "metadata": {
  "kernelspec": {
   "display_name": "Python 3",
   "language": "python",
   "name": "python3"
  },
  "language_info": {
   "codemirror_mode": {
    "name": "ipython",
    "version": 3
   },
   "file_extension": ".py",
   "mimetype": "text/x-python",
   "name": "python",
   "nbconvert_exporter": "python",
   "pygments_lexer": "ipython3",
   "version": "3.12.4"
  }
 },
 "nbformat": 4,
 "nbformat_minor": 2
}
