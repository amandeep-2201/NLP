{
 "cells": [
  {
   "cell_type": "code",
   "execution_count": 68,
   "metadata": {},
   "outputs": [
    {
     "name": "stdout",
     "output_type": "stream",
     "text": [
      "Requirement already satisfied: nltk in c:\\users\\697sm\\appdata\\local\\programs\\python\\python312\\lib\\site-packages (3.9.1)\n",
      "Requirement already satisfied: click in c:\\users\\697sm\\appdata\\local\\programs\\python\\python312\\lib\\site-packages (from nltk) (8.1.7)\n",
      "Requirement already satisfied: joblib in c:\\users\\697sm\\appdata\\local\\programs\\python\\python312\\lib\\site-packages (from nltk) (1.4.2)\n",
      "Requirement already satisfied: regex>=2021.8.3 in c:\\users\\697sm\\appdata\\local\\programs\\python\\python312\\lib\\site-packages (from nltk) (2024.9.11)\n",
      "Requirement already satisfied: tqdm in c:\\users\\697sm\\appdata\\local\\programs\\python\\python312\\lib\\site-packages (from nltk) (4.66.5)\n",
      "Requirement already satisfied: colorama in c:\\users\\697sm\\appdata\\local\\programs\\python\\python312\\lib\\site-packages (from click->nltk) (0.4.6)\n",
      "Note: you may need to restart the kernel to use updated packages.\n"
     ]
    },
    {
     "name": "stderr",
     "output_type": "stream",
     "text": [
      "\n",
      "[notice] A new release of pip is available: 24.0 -> 24.2\n",
      "[notice] To update, run: python.exe -m pip install --upgrade pip\n"
     ]
    }
   ],
   "source": [
    "%pip install nltk"
   ]
  },
  {
   "cell_type": "code",
   "execution_count": 94,
   "metadata": {},
   "outputs": [],
   "source": [
    "paragraph = \"\"\"Narendra Damodardas Modi[a] (born 17 September 1950)[b] is an Indian politician serving as the current prime minister of India since 26 May 2014. Modi was the chief minister of Gujarat from 2001 to 2014 and is the Member of Parliament (MP) for Varanasi. He is a member of the Bharatiya Janata Party (BJP) and of the Rashtriya Swayamsevak Sangh (RSS), a right-wing Hindu nationalist paramilitary volunteer organisation. He is the longest-serving prime minister outside the Indian National Congress.[4]\n",
    "\n",
    "Modi was born and raised in Vadnagar in northeastern Gujarat, where he completed his secondary education. He was introduced to the RSS at the age of eight. At the age of 18, he was married to Jashodaben Modi, whom he abandoned soon after, only publicly acknowledging her four decades later when legally required to do so. Modi became a full-time worker for the RSS in Gujarat in 1971. The RSS assigned him to the BJP in 1985 and he rose through the party hierarchy, becoming general secretary in 1998.[c] In 2001, Modi was appointed Chief Minister of Gujarat and elected to the legislative assembly soon after. His administration is considered complicit in the 2002 Gujarat riots,[d] and has been criticised for its management of the crisis. According to official records, a little over 1,000 people were killed, three-quarters of whom were Muslim; independent sources estimated 2,000 deaths, mostly Muslim.[13] A Special Investigation Team appointed by the Supreme Court of India in 2012 found no evidence to initiate prosecution proceedings against him.[e] While his policies as chief minister were credited for encouraging economic growth, his administration was criticised for failing to significantly improve health, poverty and education indices in the state.[f]\n",
    "\"\"\""
   ]
  },
  {
   "cell_type": "code",
   "execution_count": 70,
   "metadata": {},
   "outputs": [
    {
     "data": {
      "text/plain": [
       "'Narendra Damodardas Modi[a] (born 17 September 1950)[b] is an Indian politician serving as the current prime minister of India since 26 May 2014. Modi was the chief minister of Gujarat from 2001 to 2014 and is the Member of Parliament (MP) for Varanasi. He is a member of the Bharatiya Janata Party (BJP) and of the Rashtriya Swayamsevak Sangh (RSS), a right-wing Hindu nationalist paramilitary volunteer organisation. He is the longest-serving prime minister outside the Indian National Congress.[4]\\n\\nModi was born and raised in Vadnagar in northeastern Gujarat, where he completed his secondary education. He was introduced to the RSS at the age of eight. At the age of 18, he was married to Jashodaben Modi, whom he abandoned soon after, only publicly acknowledging her four decades later when legally required to do so. Modi became a full-time worker for the RSS in Gujarat in 1971. The RSS assigned him to the BJP in 1985 and he rose through the party hierarchy, becoming general secretary in 1998.[c] In 2001, Modi was appointed Chief Minister of Gujarat and elected to the legislative assembly soon after. His administration is considered complicit in the 2002 Gujarat riots,[d] and has been criticised for its management of the crisis. According to official records, a little over 1,000 people were killed, three-quarters of whom were Muslim; independent sources estimated 2,000 deaths, mostly Muslim.[13] A Special Investigation Team appointed by the Supreme Court of India in 2012 found no evidence to initiate prosecution proceedings against him.[e] While his policies as chief minister were credited for encouraging economic growth, his administration was criticised for failing to significantly improve health, poverty and education indices in the state.[f]\\n'"
      ]
     },
     "execution_count": 70,
     "metadata": {},
     "output_type": "execute_result"
    }
   ],
   "source": [
    "paragraph"
   ]
  },
  {
   "cell_type": "code",
   "execution_count": 71,
   "metadata": {},
   "outputs": [],
   "source": [
    "import nltk\n",
    "from nltk.stem import PorterStemmer\n",
    "from nltk.corpus import stopwords "
   ]
  },
  {
   "cell_type": "code",
   "execution_count": 95,
   "metadata": {},
   "outputs": [
    {
     "name": "stderr",
     "output_type": "stream",
     "text": [
      "[nltk_data] Downloading package punkt to\n",
      "[nltk_data]     C:\\Users\\697sm\\AppData\\Roaming\\nltk_data...\n",
      "[nltk_data]   Package punkt is already up-to-date!\n"
     ]
    },
    {
     "data": {
      "text/plain": [
       "['Narendra Damodardas Modi[a] (born 17 September 1950)[b] is an Indian politician serving as the current prime minister of India since 26 May 2014.',\n",
       " 'Modi was the chief minister of Gujarat from 2001 to 2014 and is the Member of Parliament (MP) for Varanasi.',\n",
       " 'He is a member of the Bharatiya Janata Party (BJP) and of the Rashtriya Swayamsevak Sangh (RSS), a right-wing Hindu nationalist paramilitary volunteer organisation.',\n",
       " 'He is the longest-serving prime minister outside the Indian National Congress.',\n",
       " '[4]\\n\\nModi was born and raised in Vadnagar in northeastern Gujarat, where he completed his secondary education.',\n",
       " 'He was introduced to the RSS at the age of eight.',\n",
       " 'At the age of 18, he was married to Jashodaben Modi, whom he abandoned soon after, only publicly acknowledging her four decades later when legally required to do so.',\n",
       " 'Modi became a full-time worker for the RSS in Gujarat in 1971.',\n",
       " 'The RSS assigned him to the BJP in 1985 and he rose through the party hierarchy, becoming general secretary in 1998.',\n",
       " '[c] In 2001, Modi was appointed Chief Minister of Gujarat and elected to the legislative assembly soon after.',\n",
       " 'His administration is considered complicit in the 2002 Gujarat riots,[d] and has been criticised for its management of the crisis.',\n",
       " 'According to official records, a little over 1,000 people were killed, three-quarters of whom were Muslim; independent sources estimated 2,000 deaths, mostly Muslim.',\n",
       " '[13] A Special Investigation Team appointed by the Supreme Court of India in 2012 found no evidence to initiate prosecution proceedings against him.',\n",
       " '[e] While his policies as chief minister were credited for encouraging economic growth, his administration was criticised for failing to significantly improve health, poverty and education indices in the state.',\n",
       " '[f]']"
      ]
     },
     "execution_count": 95,
     "metadata": {},
     "output_type": "execute_result"
    }
   ],
   "source": [
    "##tokenization -- converts paragraphs into sentences-words\n",
    "nltk.download('punkt')\n",
    "\n",
    "sentences = nltk.sent_tokenize(paragraph)\n",
    "sentences"
   ]
  },
  {
   "cell_type": "code",
   "execution_count": 96,
   "metadata": {},
   "outputs": [
    {
     "data": {
      "text/plain": [
       "'goe'"
      ]
     },
     "execution_count": 96,
     "metadata": {},
     "output_type": "execute_result"
    }
   ],
   "source": [
    "stemmer = PorterStemmer()\n",
    "stemmer.stem('goes')"
   ]
  },
  {
   "cell_type": "code",
   "execution_count": 74,
   "metadata": {},
   "outputs": [],
   "source": [
    "from nltk.stem import WordNetLemmatizer"
   ]
  },
  {
   "cell_type": "code",
   "execution_count": 75,
   "metadata": {},
   "outputs": [],
   "source": [
    "lemmatizer = WordNetLemmatizer()"
   ]
  },
  {
   "cell_type": "code",
   "execution_count": 76,
   "metadata": {},
   "outputs": [
    {
     "name": "stderr",
     "output_type": "stream",
     "text": [
      "[nltk_data] Downloading package wordnet to\n",
      "[nltk_data]     C:\\Users\\697sm\\AppData\\Roaming\\nltk_data...\n",
      "[nltk_data]   Package wordnet is already up-to-date!\n"
     ]
    },
    {
     "data": {
      "text/plain": [
       "True"
      ]
     },
     "execution_count": 76,
     "metadata": {},
     "output_type": "execute_result"
    }
   ],
   "source": [
    "import nltk\n",
    "nltk.download('wordnet')"
   ]
  },
  {
   "cell_type": "code",
   "execution_count": 77,
   "metadata": {},
   "outputs": [
    {
     "data": {
      "text/plain": [
       "'go'"
      ]
     },
     "execution_count": 77,
     "metadata": {},
     "output_type": "execute_result"
    }
   ],
   "source": [
    "lemmatizer.lemmatize('goes')"
   ]
  },
  {
   "cell_type": "markdown",
   "metadata": {},
   "source": [
    "Cleaning special characters"
   ]
  },
  {
   "cell_type": "code",
   "execution_count": 97,
   "metadata": {},
   "outputs": [],
   "source": [
    "import re   #regular expression"
   ]
  },
  {
   "cell_type": "code",
   "execution_count": 111,
   "metadata": {},
   "outputs": [],
   "source": [
    "corpus = []\n",
    "for i in range(len(sentences)):  #16\n",
    "    review = re.sub('[^a-zA-Z0-9]', ' ', sentences[i] )   #replace everything other than a-z and A-Z and 0-9 with \" \" on sentences\n",
    "    review = review.lower()\n",
    "    corpus.append(review)\n"
   ]
  },
  {
   "cell_type": "code",
   "execution_count": 106,
   "metadata": {},
   "outputs": [
    {
     "data": {
      "text/plain": [
       "['narendra damodardas modi a   born 17 september 1950  b  is an indian politician serving as the current prime minister of india since 26 may 2014 ',\n",
       " 'modi was the chief minister of gujarat from 2001 to 2014 and is the member of parliament  mp  for varanasi ',\n",
       " 'he is a member of the bharatiya janata party  bjp  and of the rashtriya swayamsevak sangh  rss   a right wing hindu nationalist paramilitary volunteer organisation ',\n",
       " 'he is the longest serving prime minister outside the indian national congress ',\n",
       " ' 4   modi was born and raised in vadnagar in northeastern gujarat  where he completed his secondary education ',\n",
       " 'he was introduced to the rss at the age of eight ',\n",
       " 'at the age of 18  he was married to jashodaben modi  whom he abandoned soon after  only publicly acknowledging her four decades later when legally required to do so ',\n",
       " 'modi became a full time worker for the rss in gujarat in 1971 ',\n",
       " 'the rss assigned him to the bjp in 1985 and he rose through the party hierarchy  becoming general secretary in 1998 ',\n",
       " ' c  in 2001  modi was appointed chief minister of gujarat and elected to the legislative assembly soon after ',\n",
       " 'his administration is considered complicit in the 2002 gujarat riots  d  and has been criticised for its management of the crisis ',\n",
       " 'according to official records  a little over 1 000 people were killed  three quarters of whom were muslim  independent sources estimated 2 000 deaths  mostly muslim ',\n",
       " ' 13  a special investigation team appointed by the supreme court of india in 2012 found no evidence to initiate prosecution proceedings against him ',\n",
       " ' e  while his policies as chief minister were credited for encouraging economic growth  his administration was criticised for failing to significantly improve health  poverty and education indices in the state ',\n",
       " ' f ']"
      ]
     },
     "execution_count": 106,
     "metadata": {},
     "output_type": "execute_result"
    }
   ],
   "source": [
    "corpus"
   ]
  },
  {
   "cell_type": "code",
   "execution_count": 100,
   "metadata": {},
   "outputs": [
    {
     "name": "stderr",
     "output_type": "stream",
     "text": [
      "[nltk_data] Downloading package stopwords to\n",
      "[nltk_data]     C:\\Users\\697sm\\AppData\\Roaming\\nltk_data...\n",
      "[nltk_data]   Package stopwords is already up-to-date!\n"
     ]
    },
    {
     "data": {
      "text/plain": [
       "True"
      ]
     },
     "execution_count": 100,
     "metadata": {},
     "output_type": "execute_result"
    }
   ],
   "source": [
    "import nltk\n",
    "nltk.download('stopwords')"
   ]
  },
  {
   "cell_type": "code",
   "execution_count": 107,
   "metadata": {},
   "outputs": [],
   "source": [
    "#stemming\n",
    "\n",
    "#for i in corpus:\n",
    "#    words = nltk.word_tokenize(i)\n",
    "#    for word in words:\n",
    "#        if word not in set(stopwords.words('english')):\n",
    "#            print(stemmer.stem(word))\n",
    "\n",
    "\n",
    "for i in range(len(corpus)):\n",
    "    words = nltk.word_tokenize(corpus[i])    #creating words from sentences\n",
    "    words = [stemmer.stem(word) for word in words if word not in set(stopwords.words('english'))]  #updating words\n",
    "    corpus[i] = ' '.join(words)"
   ]
  },
  {
   "cell_type": "code",
   "execution_count": 108,
   "metadata": {},
   "outputs": [
    {
     "data": {
      "text/plain": [
       "['narendra damodarda modi born 17 septemb 1950 b indian politician serv current prime minist india sinc 26 may 2014',\n",
       " 'modi chief minist gujarat 2001 2014 member parliament mp varanasi',\n",
       " 'member bharatiya janata parti bjp rashtriya swayamsevak sangh rss right wing hindu nationalist paramilitari volunt organis',\n",
       " 'longest serv prime minist outsid indian nation congress',\n",
       " '4 modi born rais vadnagar northeastern gujarat complet secondari educ',\n",
       " 'introduc rss age eight',\n",
       " 'age 18 marri jashodaben modi abandon soon publicli acknowledg four decad later legal requir',\n",
       " 'modi becam full time worker rss gujarat 1971',\n",
       " 'rss assign bjp 1985 rose parti hierarchi becom gener secretari 1998',\n",
       " 'c 2001 modi appoint chief minist gujarat elect legisl assembl soon',\n",
       " 'administr consid complicit 2002 gujarat riot criticis manag crisi',\n",
       " 'accord offici record littl 1 000 peopl kill three quarter muslim independ sourc estim 2 000 death mostli muslim',\n",
       " '13 special investig team appoint suprem court india 2012 found evid initi prosecut proceed',\n",
       " 'e polici chief minist credit encourag econom growth administr criticis fail significantli improv health poverti educ indic state',\n",
       " 'f']"
      ]
     },
     "execution_count": 108,
     "metadata": {},
     "output_type": "execute_result"
    }
   ],
   "source": [
    "corpus"
   ]
  },
  {
   "cell_type": "code",
   "execution_count": 112,
   "metadata": {},
   "outputs": [],
   "source": [
    "#lemmatization\n",
    "\n",
    "#for i in range(len(corpus)):\n",
    "#    words = nltk.word_tokenize(corpus[i])\n",
    "#    for word in words:\n",
    "#        if word not in set(stopwords.words('english')):\n",
    "#            words = (lemmatizer.lemmatize(word))\n",
    "#            corpus[i] = ' '.join(words)\n",
    "\n",
    "for i in range(len(corpus)):\n",
    "    words = nltk.word_tokenize(corpus[i])    #creating words from sentences\n",
    "    words = [lemmatizer.lemmatize(word) for word in words if word not in set(stopwords.words('english'))]  #updating words\n",
    "    corpus[i] = ' '.join(words)\n",
    "            "
   ]
  },
  {
   "cell_type": "code",
   "execution_count": 113,
   "metadata": {},
   "outputs": [
    {
     "data": {
      "text/plain": [
       "['narendra damodardas modi born 17 september 1950 b indian politician serving current prime minister india since 26 may 2014',\n",
       " 'modi chief minister gujarat 2001 2014 member parliament mp varanasi',\n",
       " 'member bharatiya janata party bjp rashtriya swayamsevak sangh rss right wing hindu nationalist paramilitary volunteer organisation',\n",
       " 'longest serving prime minister outside indian national congress',\n",
       " '4 modi born raised vadnagar northeastern gujarat completed secondary education',\n",
       " 'introduced rss age eight',\n",
       " 'age 18 married jashodaben modi abandoned soon publicly acknowledging four decade later legally required',\n",
       " 'modi became full time worker rss gujarat 1971',\n",
       " 'rss assigned bjp 1985 rose party hierarchy becoming general secretary 1998',\n",
       " 'c 2001 modi appointed chief minister gujarat elected legislative assembly soon',\n",
       " 'administration considered complicit 2002 gujarat riot criticised management crisis',\n",
       " 'according official record little 1 000 people killed three quarter muslim independent source estimated 2 000 death mostly muslim',\n",
       " '13 special investigation team appointed supreme court india 2012 found evidence initiate prosecution proceeding',\n",
       " 'e policy chief minister credited encouraging economic growth administration criticised failing significantly improve health poverty education index state',\n",
       " 'f']"
      ]
     },
     "execution_count": 113,
     "metadata": {},
     "output_type": "execute_result"
    }
   ],
   "source": [
    "corpus"
   ]
  },
  {
   "cell_type": "code",
   "execution_count": 114,
   "metadata": {},
   "outputs": [
    {
     "name": "stdout",
     "output_type": "stream",
     "text": [
      "Requirement already satisfied: scikit-learn in c:\\users\\697sm\\appdata\\local\\programs\\python\\python312\\lib\\site-packages (1.5.2)Note: you may need to restart the kernel to use updated packages.\n",
      "\n",
      "Requirement already satisfied: numpy>=1.19.5 in c:\\users\\697sm\\appdata\\local\\programs\\python\\python312\\lib\\site-packages (from scikit-learn) (1.26.4)\n",
      "Requirement already satisfied: scipy>=1.6.0 in c:\\users\\697sm\\appdata\\local\\programs\\python\\python312\\lib\\site-packages (from scikit-learn) (1.13.1)\n",
      "Requirement already satisfied: joblib>=1.2.0 in c:\\users\\697sm\\appdata\\local\\programs\\python\\python312\\lib\\site-packages (from scikit-learn) (1.4.2)\n",
      "Requirement already satisfied: threadpoolctl>=3.1.0 in c:\\users\\697sm\\appdata\\local\\programs\\python\\python312\\lib\\site-packages (from scikit-learn) (3.5.0)\n"
     ]
    },
    {
     "name": "stderr",
     "output_type": "stream",
     "text": [
      "\n",
      "[notice] A new release of pip is available: 24.0 -> 24.2\n",
      "[notice] To update, run: python.exe -m pip install --upgrade pip\n"
     ]
    }
   ],
   "source": [
    "%pip install scikit-learn"
   ]
  },
  {
   "cell_type": "code",
   "execution_count": 86,
   "metadata": {},
   "outputs": [],
   "source": [
    "#bag of words\n",
    "\n",
    "from sklearn.feature_extraction.text import CountVectorizer\n",
    "\n",
    "cv = CountVectorizer(binary = True,)"
   ]
  },
  {
   "cell_type": "code",
   "execution_count": 115,
   "metadata": {},
   "outputs": [],
   "source": [
    "X = cv.fit_transform(corpus)\n"
   ]
  },
  {
   "cell_type": "code",
   "execution_count": 59,
   "metadata": {},
   "outputs": [
    {
     "data": {
      "text/plain": [
       "{'narendra': 100,\n",
       " 'damodardas': 44,\n",
       " 'modi': 96,\n",
       " 'born': 32,\n",
       " '17': 2,\n",
       " 'september': 134,\n",
       " '1950': 4,\n",
       " 'is': 81,\n",
       " 'an': 20,\n",
       " 'indian': 76,\n",
       " 'politician': 116,\n",
       " 'serving': 135,\n",
       " 'as': 23,\n",
       " 'the': 146,\n",
       " 'current': 43,\n",
       " 'prime': 118,\n",
       " 'minister': 95,\n",
       " 'of': 105,\n",
       " 'india': 75,\n",
       " 'since': 137,\n",
       " '26': 12,\n",
       " 'may': 93,\n",
       " '2014': 11,\n",
       " 'was': 154,\n",
       " 'chief': 34,\n",
       " 'gujarat': 63,\n",
       " 'from': 59,\n",
       " '2001': 8,\n",
       " 'to': 150,\n",
       " 'and': 21,\n",
       " 'member': 94,\n",
       " 'parliament': 112,\n",
       " 'mp': 98,\n",
       " 'for': 56,\n",
       " 'varanasi': 152,\n",
       " 'he': 65,\n",
       " 'bharatiya': 30,\n",
       " 'janata': 83,\n",
       " 'party': 113,\n",
       " 'bjp': 31,\n",
       " 'rashtriya': 124,\n",
       " 'swayamsevak': 144,\n",
       " 'sangh': 131,\n",
       " 'rss': 130,\n",
       " 'right': 127,\n",
       " 'wing': 160,\n",
       " 'hindu': 70,\n",
       " 'nationalist': 102,\n",
       " 'paramilitary': 111,\n",
       " 'volunteer': 153,\n",
       " 'organisation': 108,\n",
       " 'longest': 90,\n",
       " 'outside': 109,\n",
       " 'national': 101,\n",
       " 'congress': 37,\n",
       " 'raised': 123,\n",
       " 'in': 73,\n",
       " 'vadnagar': 151,\n",
       " 'northeastern': 104,\n",
       " 'where': 157,\n",
       " 'completed': 35,\n",
       " 'his': 71,\n",
       " 'secondary': 132,\n",
       " 'education': 49,\n",
       " 'introduced': 79,\n",
       " 'at': 26,\n",
       " 'age': 19,\n",
       " 'eight': 50,\n",
       " '18': 3,\n",
       " 'married': 92,\n",
       " 'jashodaben': 84,\n",
       " 'whom': 159,\n",
       " 'abandoned': 13,\n",
       " 'soon': 139,\n",
       " 'after': 17,\n",
       " 'only': 107,\n",
       " 'publicly': 121,\n",
       " 'acknowledging': 15,\n",
       " 'her': 67,\n",
       " 'four': 58,\n",
       " 'decades': 46,\n",
       " 'later': 86,\n",
       " 'when': 156,\n",
       " 'legally': 87,\n",
       " 'required': 126,\n",
       " 'do': 47,\n",
       " 'so': 138,\n",
       " 'became': 27,\n",
       " 'full': 60,\n",
       " 'time': 149,\n",
       " 'worker': 161,\n",
       " '1971': 5,\n",
       " 'assigned': 25,\n",
       " 'him': 69,\n",
       " '1985': 6,\n",
       " 'rose': 129,\n",
       " 'through': 148,\n",
       " 'hierarchy': 68,\n",
       " 'becoming': 28,\n",
       " 'general': 61,\n",
       " 'secretary': 133,\n",
       " '1998': 7,\n",
       " 'appointed': 22,\n",
       " 'elected': 51,\n",
       " 'legislative': 88,\n",
       " 'assembly': 24,\n",
       " 'administration': 16,\n",
       " 'considered': 38,\n",
       " 'complicit': 36,\n",
       " '2002': 9,\n",
       " 'riots': 128,\n",
       " 'has': 64,\n",
       " 'been': 29,\n",
       " 'criticised': 42,\n",
       " 'its': 82,\n",
       " 'management': 91,\n",
       " 'crisis': 41,\n",
       " 'according': 14,\n",
       " 'official': 106,\n",
       " 'records': 125,\n",
       " 'little': 89,\n",
       " 'over': 110,\n",
       " '000': 0,\n",
       " 'people': 114,\n",
       " 'were': 155,\n",
       " 'killed': 85,\n",
       " 'three': 147,\n",
       " 'quarters': 122,\n",
       " 'muslim': 99,\n",
       " 'independent': 74,\n",
       " 'sources': 140,\n",
       " 'estimated': 53,\n",
       " 'deaths': 45,\n",
       " 'mostly': 97,\n",
       " '13': 1,\n",
       " 'special': 141,\n",
       " 'investigation': 80,\n",
       " 'team': 145,\n",
       " 'by': 33,\n",
       " 'supreme': 143,\n",
       " 'court': 39,\n",
       " '2012': 10,\n",
       " 'found': 57,\n",
       " 'no': 103,\n",
       " 'evidence': 54,\n",
       " 'initiate': 78,\n",
       " 'prosecution': 120,\n",
       " 'proceedings': 119,\n",
       " 'against': 18,\n",
       " 'while': 158,\n",
       " 'policies': 115,\n",
       " 'credited': 40,\n",
       " 'encouraging': 52,\n",
       " 'economic': 48,\n",
       " 'growth': 62,\n",
       " 'failing': 55,\n",
       " 'significantly': 136,\n",
       " 'improve': 72,\n",
       " 'health': 66,\n",
       " 'poverty': 117,\n",
       " 'indices': 77,\n",
       " 'state': 142}"
      ]
     },
     "execution_count": 59,
     "metadata": {},
     "output_type": "execute_result"
    }
   ],
   "source": [
    "cv.vocabulary_"
   ]
  },
  {
   "cell_type": "code",
   "execution_count": 116,
   "metadata": {},
   "outputs": [
    {
     "data": {
      "text/plain": [
       "'narendra damodardas modi born 17 september 1950 b indian politician serving current prime minister india since 26 may 2014'"
      ]
     },
     "execution_count": 116,
     "metadata": {},
     "output_type": "execute_result"
    }
   ],
   "source": [
    "corpus[0]"
   ]
  },
  {
   "cell_type": "code",
   "execution_count": 117,
   "metadata": {},
   "outputs": [
    {
     "data": {
      "text/plain": [
       "array([[0, 0, 1, 0, 1, 0, 0, 0, 0, 0, 0, 1, 1, 0, 0, 0, 0, 0, 0, 0, 0, 0,\n",
       "        0, 0, 0, 1, 0, 0, 0, 0, 0, 0, 0, 0, 0, 1, 1, 0, 0, 0, 0, 0, 0, 0,\n",
       "        0, 0, 0, 0, 0, 0, 0, 0, 0, 0, 0, 0, 0, 0, 0, 1, 1, 0, 0, 0, 0, 0,\n",
       "        0, 0, 0, 0, 0, 0, 0, 0, 1, 0, 1, 1, 0, 0, 0, 1, 0, 0, 0, 0, 0, 0,\n",
       "        0, 0, 0, 0, 0, 1, 0, 1, 0, 0, 0, 0, 0, 0, 0, 0, 0, 0, 0, 0, 0, 0,\n",
       "        0, 1, 1, 0, 1, 0, 0, 0, 0, 0, 0, 0, 0, 0, 0, 0, 0, 0, 0]],\n",
       "      dtype=int64)"
      ]
     },
     "execution_count": 117,
     "metadata": {},
     "output_type": "execute_result"
    }
   ],
   "source": [
    "X[0].toarray()"
   ]
  }
 ],
 "metadata": {
  "kernelspec": {
   "display_name": "Python 3",
   "language": "python",
   "name": "python3"
  },
  "language_info": {
   "codemirror_mode": {
    "name": "ipython",
    "version": 3
   },
   "file_extension": ".py",
   "mimetype": "text/x-python",
   "name": "python",
   "nbconvert_exporter": "python",
   "pygments_lexer": "ipython3",
   "version": "3.12.4"
  }
 },
 "nbformat": 4,
 "nbformat_minor": 2
}
